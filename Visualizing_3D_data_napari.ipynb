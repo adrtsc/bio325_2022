{
 "cells": [
  {
   "cell_type": "markdown",
   "id": "9c63eb92-1517-4709-9e3d-7791d936b549",
   "metadata": {
    "tags": []
   },
   "source": [
    "# Visualizing 3D data in napari\n",
    "In this tutorial, you will learn:\n",
    "- How to load images from hdf5 files\n",
    "- How to open images in napari\n",
    "- The difference between intensity images and label images\n",
    "- How to visualize measurements on images using a napari plugin\n",
    "- How to explore image data interactively"
   ]
  },
  {
   "cell_type": "code",
   "execution_count": 8,
   "id": "68e715f0-b5d0-4e48-924b-46b156961d9a",
   "metadata": {},
   "outputs": [],
   "source": [
    "import h5py\n",
    "# We import some custom functions to handle the hdf5 files\n",
    "from h5_files import h5_select, h5_summary"
   ]
  },
  {
   "cell_type": "code",
   "execution_count": null,
   "id": "4b5750aa-871e-4c2c-ba19-cdd34abfd9ff",
   "metadata": {},
   "outputs": [],
   "source": [
    "# Get an overview of what's in an hdf5 file\n",
    "file_path = 'PATH/TO/H5/FILE'\n",
    "#file_path = '/Users/joel/Dropbox/Joel/PelkmansLab/Teaching/BIO325_2021/bio325_material/zebrafish_full.h5'\n",
    "print(h5_summary(file_path))"
   ]
  },
  {
   "cell_type": "code",
   "execution_count": 16,
   "id": "fb0e5322-2e75-430d-9b48-929f9ba45563",
   "metadata": {},
   "outputs": [],
   "source": [
    "# Load in the images from the hd5f file\n",
    "f = h5py.File(file_path, \"r\")\n",
    "sytox = h5_select(f, {'stain': 'SYTOX', 'level': 0})[0]"
   ]
  },
  {
   "cell_type": "code",
   "execution_count": 18,
   "id": "4b3d63c2-4a70-4e7a-a9b4-3b69f86c6277",
   "metadata": {},
   "outputs": [],
   "source": [
    "# TODO: Check what we loaded with the h5_select function"
   ]
  },
  {
   "cell_type": "code",
   "execution_count": null,
   "id": "32746ae2-b9c1-4d2c-8529-1da7b88bd4b9",
   "metadata": {},
   "outputs": [],
   "source": [
    "# TODO: Load the PCNA, the bCatenin and the 5-EU images at level 0"
   ]
  },
  {
   "cell_type": "code",
   "execution_count": 24,
   "id": "9b47fcd8-50bc-4f25-aae4-2379d90d93a1",
   "metadata": {},
   "outputs": [],
   "source": [
    "# Loading the segmentation mask for the nuclei\n",
    "nuclei = h5_select(f, {'stain': 'nuclei', 'level': 2})[0]"
   ]
  },
  {
   "cell_type": "code",
   "execution_count": 29,
   "id": "ae780458-d1a0-4c04-aa8f-0004f698d9a0",
   "metadata": {},
   "outputs": [],
   "source": [
    "# TODO: Load the segmentation masks for the cells"
   ]
  },
  {
   "cell_type": "code",
   "execution_count": 30,
   "id": "d488a568-803d-4d5b-b0ce-c60d2c579239",
   "metadata": {},
   "outputs": [
    {
     "data": {
      "text/plain": [
       "['cellpose_cellprob_th',\n",
       " 'cellpose_d',\n",
       " 'element_size_um',\n",
       " 'img_type',\n",
       " 'level',\n",
       " 'stain']"
      ]
     },
     "execution_count": 30,
     "metadata": {},
     "output_type": "execute_result"
    }
   ],
   "source": [
    "# Each dataset contains the actual data plus some metadata attributes\n",
    "# As you can see here, the nuclear segmentation was done using cellpose: https://www.cellpose.org \n",
    "list(nuclei.attrs)"
   ]
  },
  {
   "cell_type": "markdown",
   "id": "01797a16-4615-4c42-9d3b-ff2f12e937b2",
   "metadata": {},
   "source": [
    "## The napari viewer\n",
    "napari is a fast, interactive, multi-dimensional image viewer for Python. It’s designed for browsing, annotating, and analyzing large multi-dimensional images.  \n",
    "https://napari.org"
   ]
  },
  {
   "cell_type": "code",
   "execution_count": 23,
   "id": "b50708ad-5a8d-49ca-9d35-34f081a9b5aa",
   "metadata": {},
   "outputs": [],
   "source": [
    "import napari"
   ]
  },
  {
   "cell_type": "code",
   "execution_count": null,
   "id": "934f5d04-6626-4a81-a5b1-b0fad2a79eed",
   "metadata": {},
   "outputs": [],
   "source": [
    "# Open the image and the segmentation in the napari viewer (ignore the errors appearing below)\n",
    "# Use autoscale on the intensity image in the interface or set the contrast_limits in the function\n",
    "viewer = napari.view_image(sytox, scale=sytox.attrs['element_size_um'])\n",
    "viewer.add_labels(nuclei, scale=nuclei.attrs['element_size_um'])"
   ]
  },
  {
   "cell_type": "code",
   "execution_count": null,
   "id": "5d2bd6db-12f7-4154-8ed6-9e7518832d99",
   "metadata": {},
   "outputs": [],
   "source": [
    "# TODO: Add other intensity images & segmentations to the viewer & explore"
   ]
  },
  {
   "cell_type": "code",
   "execution_count": null,
   "id": "6d04815c-767c-4376-adcd-5923c864bf51",
   "metadata": {},
   "outputs": [],
   "source": [
    "# Questions to look at during the exploration\n",
    "- How does nuclear size & cell size vary over the embryo?\n",
    "- How does the 5-EU signal vary over the different nuclei? [Is there anything there??]\n",
    "- How does PCNA vary over the embryo and what does that mean?\n",
    "- What would you need to measure to quantitatively answer those questions?"
   ]
  },
  {
   "cell_type": "code",
   "execution_count": null,
   "id": "4f93d2bb-eef6-42bf-9af7-28f77e3dc484",
   "metadata": {},
   "outputs": [],
   "source": []
  },
  {
   "cell_type": "markdown",
   "id": "edcfba97-8ffe-488b-ae81-f818ac87f4b0",
   "metadata": {},
   "source": [
    "## Visualize feature measurements\n",
    "Using the napari feature visualization plugin, look at some of the features, e.g.:  \n",
    "- Physical Size of the nuclei or the cell\n",
    "- EU intensity (mean, skewness)\n",
    "- PCNA intensities (mean, skewness)\n",
    "Do the quantifications help you answer the questions above?"
   ]
  },
  {
   "cell_type": "code",
   "execution_count": null,
   "id": "e88ab668-2335-46fd-a48e-61e878767ca8",
   "metadata": {},
   "outputs": [],
   "source": []
  },
  {
   "cell_type": "code",
   "execution_count": null,
   "id": "115236f9-6a77-420a-aa1d-7865ff9ead6f",
   "metadata": {},
   "outputs": [],
   "source": []
  },
  {
   "cell_type": "code",
   "execution_count": null,
   "id": "58bfbde6-91aa-49e7-8aa4-f2f4a5e8885a",
   "metadata": {},
   "outputs": [],
   "source": []
  }
 ],
 "metadata": {
  "kernelspec": {
   "display_name": "Python 3 (ipykernel)",
   "language": "python",
   "name": "python3"
  },
  "language_info": {
   "codemirror_mode": {
    "name": "ipython",
    "version": 3
   },
   "file_extension": ".py",
   "mimetype": "text/x-python",
   "name": "python",
   "nbconvert_exporter": "python",
   "pygments_lexer": "ipython3",
   "version": "3.9.7"
  }
 },
 "nbformat": 4,
 "nbformat_minor": 5
}
