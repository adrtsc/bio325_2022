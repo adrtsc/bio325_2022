{
 "cells": [
  {
   "cell_type": "markdown",
   "id": "9c63eb92-1517-4709-9e3d-7791d936b549",
   "metadata": {
    "tags": []
   },
   "source": [
    "# Visualizing 3D data in napari\n",
    "In this tutorial, you will learn:\n",
    "- How to load images from hdf5 files\n",
    "- How to open images in napari\n",
    "- The difference between intensity images and label images\n",
    "- How to visualize measurements on images using a napari plugin\n",
    "- How to explore image data interactively"
   ]
  },
  {
   "cell_type": "code",
   "execution_count": null,
   "id": "68e715f0-b5d0-4e48-924b-46b156961d9a",
   "metadata": {},
   "outputs": [],
   "source": [
    "import h5py\n",
    "# We import some custom functions to handle the hdf5 files\n",
    "from h5_files import h5_select, h5_summary, to_numpy"
   ]
  },
  {
   "cell_type": "code",
   "execution_count": null,
   "id": "4b5750aa-871e-4c2c-ba19-cdd34abfd9ff",
   "metadata": {},
   "outputs": [],
   "source": [
    "# Get an overview of what's in an hdf5 file\n",
    "file_path = 'PATH/TO/H5/FILE'\n",
    "print(h5_summary(file_path))"
   ]
  },
  {
   "cell_type": "code",
   "execution_count": null,
   "id": "4295d468-22c9-48a8-930f-f52e6a5934f5",
   "metadata": {},
   "outputs": [],
   "source": [
    "# Load downsampled versions of the intensity images (level 2, if you have more memory available you can load the higher resolution images (1 or 0)).\n",
    "# Load the segmentation masks\n",
    "\n",
    "img_level = 2 # 2, 1 or 0\n",
    "\n",
    "with h5py.File(file_path) as f:\n",
    "    print('extracting image scale from metadata...')\n",
    "    sytox_dset = h5_select(f, {'stain': 'SYTOX', 'level': img_level})[0]\n",
    "    img_scl = sytox_dset.attrs['element_size_um']\n",
    "    \n",
    "    print(f'loading sytox on resolution level: {img_level}...')\n",
    "    sytox = to_numpy(sytox_dset)\n",
    "    \n",
    "    print(f'loading pcna on resolution level: {img_level}...')\n",
    "    pcna = to_numpy(h5_select(f, {'stain': 'PCNA', 'level': img_level})[0])\n",
    "    \n",
    "    print(f'loading b-catenin on resolution level: {img_level}...')\n",
    "    bcat = to_numpy(h5_select(f, {'stain': 'bCatenin', 'level': img_level})[0])\n",
    "    \n",
    "    print(f'loading 5-eu on resolution level: {img_level}...')\n",
    "    eu = to_numpy(h5_select(f, {'stain': '5-EU', 'level': img_level})[0])\n",
    "    \n",
    "    print(f'loading nuclear segmentation...')\n",
    "    lbl_scl = f['lbl_nuc'].attrs['element_size_um']\n",
    "    nucs = to_numpy(f['lbl_nuc'])\n",
    "    \n",
    "    print(f'loading cell segmentation...')\n",
    "    cells = to_numpy(f['lbl_cells'])\n",
    "    \n",
    "    print(f'loading membrane segmentation...')\n",
    "    mems = to_numpy(f['lbl_mem'])"
   ]
  },
  {
   "cell_type": "markdown",
   "id": "01797a16-4615-4c42-9d3b-ff2f12e937b2",
   "metadata": {},
   "source": [
    "## The napari viewer\n",
    "napari is a fast, interactive, multi-dimensional image viewer for Python. It’s designed for browsing, annotating, and analyzing large multi-dimensional images.  \n",
    "https://napari.org"
   ]
  },
  {
   "cell_type": "code",
   "execution_count": null,
   "id": "b50708ad-5a8d-49ca-9d35-34f081a9b5aa",
   "metadata": {},
   "outputs": [],
   "source": [
    "import napari"
   ]
  },
  {
   "cell_type": "code",
   "execution_count": null,
   "id": "934f5d04-6626-4a81-a5b1-b0fad2a79eed",
   "metadata": {},
   "outputs": [],
   "source": [
    "# Open the image and the segmentation in the napari viewer\n",
    "viewer = napari.Viewer()\n",
    "viewer.add_image(sytox, scale=img_scl, blending='additive', colormap='blue', contrast_limits=(0, 400))\n",
    "viewer.add_image(pcna, scale=img_scl, blending='additive', colormap='red', contrast_limits=(0, 100))\n",
    "viewer.add_image(bcat, scale=img_scl, blending='additive', colormap='green', contrast_limits=(0, 100))\n",
    "viewer.add_image(eu, scale=img_scl, blending='additive', colormap='red', contrast_limits=(0, 200), visible=False)\n",
    "\n",
    "viewer.add_labels(nucs, scale=lbl_scl, visible=False)\n",
    "viewer.add_labels(cells, scale=lbl_scl, visible=False)\n",
    "viewer.add_labels(mems, scale=lbl_scl, visible=False)"
   ]
  },
  {
   "cell_type": "markdown",
   "id": "64d15dda-0065-4086-b8a4-cd7b39acb26b",
   "metadata": {},
   "source": [
    "# Questions to look at during the exploration\n",
    "- How does nuclear size & cell size vary over the embryo?\n",
    "- How does the 5-EU signal vary over the different nuclei and what does that mean?\n",
    "- How does PCNA vary over the embryo and what does that mean?\n",
    "- What would you need to measure to quantitatively answer those questions?\n",
    "- What potential technical biases do you see in the images that we should be aware of when quantifying them?"
   ]
  },
  {
   "cell_type": "markdown",
   "id": "edcfba97-8ffe-488b-ae81-f818ac87f4b0",
   "metadata": {},
   "source": [
    "## Visualize feature measurements\n",
    "Open the napari feature visualization plugin (plugins -> napari-feature-visualization -> feature_vis\n",
    "\n",
    "label layer: nucs  \n",
    "DataFrame: **visualization_features.csv**  \n",
    "label column: Label\n",
    "\n",
    "Using the napari feature visualization plugin, look at some of the features, e.g.:  \n",
    "- Physical Size of the nuclei or the cell. Roundness\n",
    "- EU intensity (mean, skewness)\n",
    "- PCNA intensities (mean)  \n",
    "Do the quantifications help you answer the questions above?"
   ]
  }
 ],
 "metadata": {
  "kernelspec": {
   "display_name": "Python 3 (ipykernel)",
   "language": "python",
   "name": "python3"
  },
  "language_info": {
   "codemirror_mode": {
    "name": "ipython",
    "version": 3
   },
   "file_extension": ".py",
   "mimetype": "text/x-python",
   "name": "python",
   "nbconvert_exporter": "python",
   "pygments_lexer": "ipython3",
   "version": "3.9.13"
  }
 },
 "nbformat": 4,
 "nbformat_minor": 5
}
